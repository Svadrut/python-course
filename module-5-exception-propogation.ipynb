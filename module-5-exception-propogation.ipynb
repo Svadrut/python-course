{
 "cells": [
  {
   "cell_type": "code",
   "execution_count": 4,
   "metadata": {},
   "outputs": [
    {
     "name": "stdout",
     "output_type": "stream",
     "text": [
      "Hi, I will collect some info about your bday!\n",
      "You entered incorrect data, bye!\n"
     ]
    }
   ],
   "source": [
    "def get_day(user_info):\n",
    "    day = int(input('What is the day of your bday? '))\n",
    "    user_info.append(day)\n",
    "\n",
    "def get_month(user_info):\n",
    "    month = int(input('What is the month (1-12) of your bday? '))\n",
    "    user_info.append(month)\n",
    "\n",
    "def get_year(user_info):\n",
    "    year = int(input('What is the year of your bday? '))\n",
    "    user_info.append(year)\n",
    "\n",
    "def get_user_bday(user_info):\n",
    "    try:\n",
    "        get_day(user_info)\n",
    "        get_month(user_info)\n",
    "        get_year(user_info)\n",
    "        print('So your bday is', user_info)\n",
    "    except ValueError:\n",
    "        print('You entered incorrect data, bye!')\n",
    "\n",
    "print('Hi, I will collect some info about your bday!')\n",
    "user_info = []\n",
    "get_user_bday(user_info)"
   ]
  }
 ],
 "metadata": {
  "kernelspec": {
   "display_name": "base",
   "language": "python",
   "name": "python3"
  },
  "language_info": {
   "codemirror_mode": {
    "name": "ipython",
    "version": 3
   },
   "file_extension": ".py",
   "mimetype": "text/x-python",
   "name": "python",
   "nbconvert_exporter": "python",
   "pygments_lexer": "ipython3",
   "version": "3.10.9"
  }
 },
 "nbformat": 4,
 "nbformat_minor": 2
}
